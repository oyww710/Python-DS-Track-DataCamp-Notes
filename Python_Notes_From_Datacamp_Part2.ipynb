{
  "nbformat": 4,
  "nbformat_minor": 0,
  "metadata": {
    "colab": {
      "name": "Python_Notes_From_Datacamp_Part2.ipynb",
      "provenance": [],
      "collapsed_sections": []
    },
    "kernelspec": {
      "name": "python3",
      "display_name": "Python 3"
    }
  },
  "cells": [
    {
      "cell_type": "markdown",
      "metadata": {
        "id": "N5sLHgAo2pGe",
        "colab_type": "text"
      },
      "source": [
        "## Calculate word counts"
      ]
    },
    {
      "cell_type": "code",
      "metadata": {
        "id": "BDgiFQoY2zhS",
        "colab_type": "code",
        "colab": {}
      },
      "source": [
        "# Initialize an empty dictionary: langs_count\n",
        "#langs_count = {}\n",
        "\n",
        "# Extract column from DataFrame: col\n",
        "#col = df['lang']\n",
        "\n",
        "# Iterate over lang column in DataFrame\n",
        "#for entry in col:\n",
        "\n",
        "    # If the language is in langs_count, add 1\n",
        "#    if entry in langs_count.keys():\n",
        "#        langs_count[entry] += 1\n",
        "    # Else add the language to langs_count, set the value to 1\n",
        "#    else:\n",
        "#        langs_count[entry] = 1\n",
        "\n",
        "# Print the populated dictionary\n",
        "#print(langs_count)"
      ],
      "execution_count": 0,
      "outputs": []
    },
    {
      "cell_type": "markdown",
      "metadata": {
        "id": "W2x-CW5M3VfV",
        "colab_type": "text"
      },
      "source": [
        "## Global in function"
      ]
    },
    {
      "cell_type": "code",
      "metadata": {
        "id": "3mRk8J6h25KX",
        "colab_type": "code",
        "colab": {
          "base_uri": "https://localhost:8080/",
          "height": 51
        },
        "outputId": "b376d2d2-b99b-4af5-9165-7dc503ccf2d1"
      },
      "source": [
        "# Create a string: team\n",
        "team = \"teen titans\"\n",
        "\n",
        "# Define change_team()\n",
        "def change_team():\n",
        "    \"\"\"Change the value of the global variable team.\"\"\"\n",
        "\n",
        "    # Use team in global scope\n",
        "    global team\n",
        "\n",
        "    # Change the value of team in global: team\n",
        "    team = \"justice league\"\n",
        "\n",
        "# Print team\n",
        "print(team)\n",
        "\n",
        "# Call change_team()\n",
        "change_team()\n",
        "\n",
        "# Print team\n",
        "print(team)"
      ],
      "execution_count": 4,
      "outputs": [
        {
          "output_type": "stream",
          "text": [
            "teen titans\n",
            "justice league\n"
          ],
          "name": "stdout"
        }
      ]
    },
    {
      "cell_type": "markdown",
      "metadata": {
        "id": "SqbnkP-G3oq1",
        "colab_type": "text"
      },
      "source": [
        "## Nested Function"
      ]
    },
    {
      "cell_type": "code",
      "metadata": {
        "id": "c0AQ6oeQ3YJ3",
        "colab_type": "code",
        "colab": {
          "base_uri": "https://localhost:8080/",
          "height": 34
        },
        "outputId": "6c66e83a-13f2-4a94-934e-95f7f338d3c8"
      },
      "source": [
        "# Define three_shouts\n",
        "def three_shouts(word1, word2, word3):\n",
        "    \"\"\"Returns a tuple of strings\n",
        "    concatenated with '!!!'.\"\"\"\n",
        "\n",
        "    # Define inner\n",
        "    def inner(word):\n",
        "        \"\"\"Returns a string concatenated with '!!!'.\"\"\"\n",
        "        return word + '!!!'\n",
        "\n",
        "    # Return a tuple of strings\n",
        "    return (inner(word1), inner(word2), inner(word3))\n",
        "\n",
        "# Call three_shouts() and print\n",
        "print(three_shouts('a', 'b', 'c'))"
      ],
      "execution_count": 5,
      "outputs": [
        {
          "output_type": "stream",
          "text": [
            "('a!!!', 'b!!!', 'c!!!')\n"
          ],
          "name": "stdout"
        }
      ]
    },
    {
      "cell_type": "markdown",
      "metadata": {
        "id": "O0TYt1mA4r4u",
        "colab_type": "text"
      },
      "source": [
        "## Functions with variable-length arguments (*args)"
      ]
    },
    {
      "cell_type": "code",
      "metadata": {
        "id": "3JLFx_yz3rG9",
        "colab_type": "code",
        "colab": {
          "base_uri": "https://localhost:8080/",
          "height": 51
        },
        "outputId": "221b7c45-1d9e-473e-f8d6-eccaaf57b2d6"
      },
      "source": [
        "# Define gibberish\n",
        "def gibberish(*args):\n",
        "    \"\"\"Concatenate strings in *args together.\"\"\"\n",
        "\n",
        "    # Initialize an empty string: hodgepodge\n",
        "    hodgepodge = ''\n",
        "\n",
        "    # Concatenate the strings in args\n",
        "    for word in args:\n",
        "        hodgepodge += word\n",
        "\n",
        "    # Return hodgepodge\n",
        "    return hodgepodge\n",
        "\n",
        "# Call gibberish() with one string: one_word\n",
        "one_word = gibberish(\"luke\")\n",
        "\n",
        "# Call gibberish() with five strings: many_words\n",
        "many_words = gibberish(\"luke\", \"leia\", \"han\", \"obi\", \"darth\")\n",
        "\n",
        "# Print one_word and many_words\n",
        "print(one_word)\n",
        "print(many_words)"
      ],
      "execution_count": 6,
      "outputs": [
        {
          "output_type": "stream",
          "text": [
            "luke\n",
            "lukeleiahanobidarth\n"
          ],
          "name": "stdout"
        }
      ]
    },
    {
      "cell_type": "markdown",
      "metadata": {
        "id": "c3Q4f4Kc6ufM",
        "colab_type": "text"
      },
      "source": [
        "## Functions with variable-length keyword arguments (**kwargs)"
      ]
    },
    {
      "cell_type": "code",
      "metadata": {
        "id": "gcsEnsYd6o-4",
        "colab_type": "code",
        "colab": {
          "base_uri": "https://localhost:8080/",
          "height": 289
        },
        "outputId": "b9fee313-ac62-480b-f315-e3d22964b7ee"
      },
      "source": [
        "# Define report_status\n",
        "def report_status(**kwargs):\n",
        "    \"\"\"Print out the status of a movie character.\"\"\"\n",
        "\n",
        "    print(\"\\nBEGIN: REPORT\\n\")\n",
        "\n",
        "    # Iterate over the key-value pairs of kwargs\n",
        "    for key, value in kwargs.items():\n",
        "        # Print out the keys and values, separated by a colon ':'\n",
        "        print(key + \": \" + value)\n",
        "\n",
        "    print(\"\\nEND REPORT\")\n",
        "\n",
        "# First call to report_status()\n",
        "report_status(name=\"luke\", affiliation=\"jedi\", status=\"missing\")\n",
        "\n",
        "# Second call to report_status()\n",
        "report_status(name=\"anakin\", affiliation=\"sith lord\", status=\"deceased\")"
      ],
      "execution_count": 7,
      "outputs": [
        {
          "output_type": "stream",
          "text": [
            "\n",
            "BEGIN: REPORT\n",
            "\n",
            "name: luke\n",
            "affiliation: jedi\n",
            "status: missing\n",
            "\n",
            "END REPORT\n",
            "\n",
            "BEGIN: REPORT\n",
            "\n",
            "name: anakin\n",
            "affiliation: sith lord\n",
            "status: deceased\n",
            "\n",
            "END REPORT\n"
          ],
          "name": "stdout"
        }
      ]
    },
    {
      "cell_type": "markdown",
      "metadata": {
        "id": "OHPjEEu0V2Mw",
        "colab_type": "text"
      },
      "source": [
        "## Lambda"
      ]
    },
    {
      "cell_type": "code",
      "metadata": {
        "id": "judYwlzI6zHg",
        "colab_type": "code",
        "colab": {
          "base_uri": "https://localhost:8080/",
          "height": 34
        },
        "outputId": "2c5501ea-c865-4880-d994-39a5caf1249f"
      },
      "source": [
        "# Define echo_word as a lambda function: echo_word\n",
        "echo_word = (lambda word1, echo: word1 * echo)\n",
        "\n",
        "# Call echo_word: result\n",
        "result = echo_word('hey', 5)\n",
        "\n",
        "# Print result\n",
        "print(result)"
      ],
      "execution_count": 8,
      "outputs": [
        {
          "output_type": "stream",
          "text": [
            "heyheyheyheyhey\n"
          ],
          "name": "stdout"
        }
      ]
    },
    {
      "cell_type": "code",
      "metadata": {
        "id": "zJDwn_1YV4ej",
        "colab_type": "code",
        "colab": {
          "base_uri": "https://localhost:8080/",
          "height": 34
        },
        "outputId": "9908a4f6-ce9e-450a-b6e3-643941d6e2cc"
      },
      "source": [
        "# Create a list of strings: fellowship\n",
        "fellowship = ['frodo', 'samwise', 'merry', 'pippin', 'aragorn', 'boromir', 'legolas', 'gimli', 'gandalf']\n",
        "\n",
        "# Use filter() to apply a lambda function over fellowship: result\n",
        "result = filter(lambda member: len(member) > 6, fellowship)\n",
        "\n",
        "# Convert result to a list: result_list\n",
        "result_list = list(result)\n",
        "\n",
        "# Print result_list\n",
        "print(result_list)"
      ],
      "execution_count": 9,
      "outputs": [
        {
          "output_type": "stream",
          "text": [
            "['samwise', 'aragorn', 'boromir', 'legolas', 'gandalf']\n"
          ],
          "name": "stdout"
        }
      ]
    },
    {
      "cell_type": "code",
      "metadata": {
        "id": "ASzQhgbfgWCG",
        "colab_type": "code",
        "colab": {
          "base_uri": "https://localhost:8080/",
          "height": 34
        },
        "outputId": "603613bf-7089-435a-920a-08981c4dca23"
      },
      "source": [
        "# Import reduce from functools\n",
        "from functools import reduce\n",
        "\n",
        "# Create a list of strings: stark\n",
        "stark = ['robb', 'sansa', 'arya', 'brandon', 'rickon']\n",
        "\n",
        "# Use reduce() to apply a lambda function over stark: result\n",
        "result = reduce(lambda item1, item2: item1 + item2, stark)\n",
        "\n",
        "# Print the result\n",
        "print(result)"
      ],
      "execution_count": 10,
      "outputs": [
        {
          "output_type": "stream",
          "text": [
            "robbsansaaryabrandonrickon\n"
          ],
          "name": "stdout"
        }
      ]
    },
    {
      "cell_type": "markdown",
      "metadata": {
        "id": "VB5jLgO3oHZB",
        "colab_type": "text"
      },
      "source": [
        "## Error handling"
      ]
    },
    {
      "cell_type": "code",
      "metadata": {
        "id": "wFSzzwVfggg8",
        "colab_type": "code",
        "colab": {
          "base_uri": "https://localhost:8080/",
          "height": 51
        },
        "outputId": "29d89252-9d02-4369-b31a-3a6282a73e91"
      },
      "source": [
        "# Define shout_echo\n",
        "def shout_echo(word1, echo=1):\n",
        "    \"\"\"Concatenate echo copies of word1 and three\n",
        "    exclamation marks at the end of the string.\"\"\"\n",
        "\n",
        "    # Initialize empty strings: echo_word, shout_words\n",
        "    echo_word = ''\n",
        "    shout_words = ''\n",
        "\n",
        "    # Add exception handling with try-except\n",
        "    try:\n",
        "        # Concatenate echo copies of word1 using *: echo_word\n",
        "        echo_word = word1 * echo\n",
        "\n",
        "        # Concatenate '!!!' to echo_word: shout_words\n",
        "        shout_words = echo_word + '!!!'\n",
        "    except:\n",
        "        # Print error message\n",
        "        print(\"word1 must be a string and echo must be an integer.\")\n",
        "\n",
        "    # Return shout_words\n",
        "    return shout_words\n",
        "\n",
        "# Call shout_echo\n",
        "shout_echo(\"particle\", echo=\"accelerator\")"
      ],
      "execution_count": 1,
      "outputs": [
        {
          "output_type": "stream",
          "text": [
            "word1 must be a string and echo must be an integer.\n"
          ],
          "name": "stdout"
        },
        {
          "output_type": "execute_result",
          "data": {
            "text/plain": [
              "''"
            ]
          },
          "metadata": {
            "tags": []
          },
          "execution_count": 1
        }
      ]
    },
    {
      "cell_type": "markdown",
      "metadata": {
        "id": "pn9w0rJqyCot",
        "colab_type": "text"
      },
      "source": [
        "## iter function"
      ]
    },
    {
      "cell_type": "code",
      "metadata": {
        "id": "OpL3qCr8oMha",
        "colab_type": "code",
        "colab": {
          "base_uri": "https://localhost:8080/",
          "height": 153
        },
        "outputId": "1aa3f5a4-022a-430f-9d4e-7ce12ee6e917"
      },
      "source": [
        "# Create a list of strings: flash\n",
        "flash = ['jay garrick', 'barry allen', 'wally west', 'bart allen']\n",
        "\n",
        "# Print each list item in flash using a for loop\n",
        "for person in flash:\n",
        "    print(person)\n",
        "\n",
        "# Create an iterator for flash: superspeed\n",
        "superspeed = iter(flash)\n",
        "\n",
        "# Print each item from the iterator\n",
        "print(next(superspeed))\n",
        "print(next(superspeed))\n",
        "print(next(superspeed))\n",
        "print(next(superspeed))\n"
      ],
      "execution_count": 2,
      "outputs": [
        {
          "output_type": "stream",
          "text": [
            "jay garrick\n",
            "barry allen\n",
            "wally west\n",
            "bart allen\n",
            "jay garrick\n",
            "barry allen\n",
            "wally west\n",
            "bart allen\n"
          ],
          "name": "stdout"
        }
      ]
    },
    {
      "cell_type": "code",
      "metadata": {
        "id": "hErUAIFYyGvS",
        "colab_type": "code",
        "colab": {
          "base_uri": "https://localhost:8080/",
          "height": 68
        },
        "outputId": "2cc1c90a-5b23-4ef5-e649-72b36a479bc5"
      },
      "source": [
        "# Create a range object: values\n",
        "values = range(10, 21)\n",
        "\n",
        "# Print the range object\n",
        "print(values)\n",
        "\n",
        "# Create a list of integers: values_list\n",
        "values_list = list(values)\n",
        "\n",
        "# Print values_list\n",
        "print(values_list)\n",
        "\n",
        "# Get the sum of values: values_sum\n",
        "values_sum = sum(values)\n",
        "\n",
        "# Print values_sum\n",
        "print(values_sum)\n"
      ],
      "execution_count": 3,
      "outputs": [
        {
          "output_type": "stream",
          "text": [
            "range(10, 21)\n",
            "[10, 11, 12, 13, 14, 15, 16, 17, 18, 19, 20]\n",
            "165\n"
          ],
          "name": "stdout"
        }
      ]
    },
    {
      "cell_type": "markdown",
      "metadata": {
        "id": "MD_NNM2t74DJ",
        "colab_type": "text"
      },
      "source": [
        "## Enumerate"
      ]
    },
    {
      "cell_type": "code",
      "metadata": {
        "id": "eeQzsk63yQ33",
        "colab_type": "code",
        "colab": {
          "base_uri": "https://localhost:8080/",
          "height": 204
        },
        "outputId": "83aa801d-37bd-418d-82ab-ecc25d0799b7"
      },
      "source": [
        "# Create a list of strings: mutants\n",
        "mutants = ['charles xavier', \n",
        "            'bobby drake', \n",
        "            'kurt wagner', \n",
        "            'max eisenhardt', \n",
        "            'kitty pryde']\n",
        "\n",
        "# Create a list of tuples: mutant_list\n",
        "mutant_list = list(enumerate(mutants))\n",
        "\n",
        "# Print the list of tuples\n",
        "print(mutant_list)\n",
        "\n",
        "# Unpack and print the tuple pairs\n",
        "for index1, value1 in enumerate(mutants):\n",
        "    print(index1, value1)\n",
        "\n",
        "# Change the start index\n",
        "for index2, value2 in enumerate(mutants, start=1):\n",
        "    print(index2, value2)\n"
      ],
      "execution_count": 4,
      "outputs": [
        {
          "output_type": "stream",
          "text": [
            "[(0, 'charles xavier'), (1, 'bobby drake'), (2, 'kurt wagner'), (3, 'max eisenhardt'), (4, 'kitty pryde')]\n",
            "0 charles xavier\n",
            "1 bobby drake\n",
            "2 kurt wagner\n",
            "3 max eisenhardt\n",
            "4 kitty pryde\n",
            "1 charles xavier\n",
            "2 bobby drake\n",
            "3 kurt wagner\n",
            "4 max eisenhardt\n",
            "5 kitty pryde\n"
          ],
          "name": "stdout"
        }
      ]
    },
    {
      "cell_type": "markdown",
      "metadata": {
        "id": "eGsY9hsf9FcX",
        "colab_type": "text"
      },
      "source": [
        "## Zip() function"
      ]
    },
    {
      "cell_type": "code",
      "metadata": {
        "id": "AVT-MgDf8Hvk",
        "colab_type": "code",
        "colab": {
          "base_uri": "https://localhost:8080/",
          "height": 156
        },
        "outputId": "ea2a891d-f385-4d61-faea-fdc7f1477ea9"
      },
      "source": [
        "aliases=['prof x', 'iceman', 'nightcrawler', 'magneto', 'shadowcat']\n",
        "powers=['telepathy', 'thermokinesis', 'teleportation', 'magnetokinesis', 'intangibility']\n",
        "\n",
        "# Create a list of tuples: mutant_data\n",
        "mutant_data = list(zip(mutants, aliases, powers))\n",
        "\n",
        "# Print the list of tuples\n",
        "print(mutant_data)\n",
        "\n",
        "# Create a zip object using the three lists: mutant_zip\n",
        "mutant_zip = zip(mutants, aliases, powers)\n",
        "\n",
        "# Print the zip object\n",
        "print(mutant_zip)\n",
        "\n",
        "# Unpack the zip object and print the tuple values\n",
        "for value1, value2, value3 in mutant_zip:\n",
        "    print(value1, value2, value3)"
      ],
      "execution_count": 5,
      "outputs": [
        {
          "output_type": "stream",
          "text": [
            "[('charles xavier', 'prof x', 'telepathy'), ('bobby drake', 'iceman', 'thermokinesis'), ('kurt wagner', 'nightcrawler', 'teleportation'), ('max eisenhardt', 'magneto', 'magnetokinesis'), ('kitty pryde', 'shadowcat', 'intangibility')]\n",
            "<zip object at 0x7fb085f8ad08>\n",
            "charles xavier prof x telepathy\n",
            "bobby drake iceman thermokinesis\n",
            "kurt wagner nightcrawler teleportation\n",
            "max eisenhardt magneto magnetokinesis\n",
            "kitty pryde shadowcat intangibility\n"
          ],
          "name": "stdout"
        }
      ]
    },
    {
      "cell_type": "code",
      "metadata": {
        "id": "3AwSrZPE8sgj",
        "colab_type": "code",
        "colab": {
          "base_uri": "https://localhost:8080/",
          "height": 88
        },
        "outputId": "eebe032a-d249-461d-f41a-78c740f8d243"
      },
      "source": [
        "# Create a zip object from mutants and powers: z1\n",
        "z1 = zip(mutants, powers)\n",
        "\n",
        "# Print the tuples in z1 by unpacking with *\n",
        "print(*z1)\n",
        "\n",
        "# Re-create a zip object from mutants and powers: z1\n",
        "z1 = zip(mutants, powers)\n",
        "\n",
        "# 'Unzip' the tuples in z1 by unpacking with * and zip(): result1, result2\n",
        "result1, result2 = zip(*z1)\n",
        "\n",
        "# Check if unpacked tuples are equivalent to original tuples\n",
        "print(result1 == mutants)\n",
        "print(result2 == powers)\n"
      ],
      "execution_count": 6,
      "outputs": [
        {
          "output_type": "stream",
          "text": [
            "('charles xavier', 'telepathy') ('bobby drake', 'thermokinesis') ('kurt wagner', 'teleportation') ('max eisenhardt', 'magnetokinesis') ('kitty pryde', 'intangibility')\n",
            "False\n",
            "False\n"
          ],
          "name": "stdout"
        }
      ]
    },
    {
      "cell_type": "markdown",
      "metadata": {
        "id": "9B_oG-XN9RnB",
        "colab_type": "text"
      },
      "source": [
        "## Using iterators to load large files into memory\n"
      ]
    },
    {
      "cell_type": "code",
      "metadata": {
        "id": "WPrgbnq59JME",
        "colab_type": "code",
        "colab": {}
      },
      "source": [
        "# Initialize an empty dictionary: counts_dict\n",
        "#counts_dict = {}\n",
        "\n",
        "# Iterate over the file chunk by chunk\n",
        "#for chunk in pd.read_csv('tweets.csv', chunksize=10):\n",
        "\n",
        "    # Iterate over the column in DataFrame\n",
        "#    for entry in chunk['lang']:\n",
        "#        if entry in counts_dict.keys():\n",
        "#            counts_dict[entry] += 1\n",
        "#        else:\n",
        "#            counts_dict[entry] = 1\n",
        "\n",
        "# Print the populated dictionary\n",
        "#print(counts_dict)\n"
      ],
      "execution_count": 0,
      "outputs": []
    },
    {
      "cell_type": "code",
      "metadata": {
        "id": "L4dMbHcE9n-a",
        "colab_type": "code",
        "colab": {
          "base_uri": "https://localhost:8080/",
          "height": 34
        },
        "outputId": "ea64a3e8-b894-451c-ab0d-4e4ae1c8caa2"
      },
      "source": [
        "# Define count_entries()\n",
        "#def count_entries(csv_file, c_size, colname):\n",
        "    \"\"\"Return a dictionary with counts of\n",
        "    occurrences as value for each key.\"\"\"\n",
        "    \n",
        "    # Initialize an empty dictionary: counts_dict\n",
        "#    counts_dict = {}\n",
        "\n",
        "    # Iterate over the file chunk by chunk\n",
        "#    for chunk in pd.read_csv(csv_file, chunksize=c_size):\n",
        "\n",
        "        # Iterate over the column in DataFrame\n",
        "#        for entry in chunk[colname]:\n",
        "#            if entry in counts_dict.keys():\n",
        "#                counts_dict[entry] += 1\n",
        "#            else:\n",
        "#                counts_dict[entry] = 1\n",
        "\n",
        "    # Return counts_dict\n",
        "#    return counts_dict\n",
        "\n",
        "# Call count_entries(): result_counts\n",
        "#result_counts = count_entries('tweets.csv', 10, 'lang')\n",
        "\n",
        "# Print result_counts\n",
        "#print(result_counts)\n"
      ],
      "execution_count": 7,
      "outputs": [
        {
          "output_type": "execute_result",
          "data": {
            "text/plain": [
              "'Return a dictionary with counts of\\noccurrences as value for each key.'"
            ]
          },
          "metadata": {
            "tags": []
          },
          "execution_count": 7
        }
      ]
    },
    {
      "cell_type": "markdown",
      "metadata": {
        "id": "09qjrEQ8-dcl",
        "colab_type": "text"
      },
      "source": [
        "## Writing list comprehensions\n"
      ]
    },
    {
      "cell_type": "code",
      "metadata": {
        "id": "5oovKrXb9zhw",
        "colab_type": "code",
        "colab": {
          "base_uri": "https://localhost:8080/",
          "height": 34
        },
        "outputId": "47298a53-451a-4a29-c2d7-59e88b3b37a7"
      },
      "source": [
        "# Create list comprehension: squares\n",
        "squares = [i**2 for i in range(0,10)]\n",
        "print(squares)"
      ],
      "execution_count": 9,
      "outputs": [
        {
          "output_type": "stream",
          "text": [
            "[0, 1, 4, 9, 16, 25, 36, 49, 64, 81]\n"
          ],
          "name": "stdout"
        }
      ]
    },
    {
      "cell_type": "markdown",
      "metadata": {
        "id": "lxkXvEY8_BeH",
        "colab_type": "text"
      },
      "source": [
        "## Nested list comprehensions\n"
      ]
    },
    {
      "cell_type": "code",
      "metadata": {
        "id": "cZhdC6_R-gNn",
        "colab_type": "code",
        "colab": {
          "base_uri": "https://localhost:8080/",
          "height": 102
        },
        "outputId": "36b37b64-145d-44b1-d998-59acb1b7ec82"
      },
      "source": [
        "# Create a 5 x 5 matrix using a list of lists: matrix\n",
        "matrix = [[col for col in range(5)] for row in range(5)]\n",
        "\n",
        "# Print the matrix\n",
        "for row in matrix:\n",
        "    print(row)"
      ],
      "execution_count": 10,
      "outputs": [
        {
          "output_type": "stream",
          "text": [
            "[0, 1, 2, 3, 4]\n",
            "[0, 1, 2, 3, 4]\n",
            "[0, 1, 2, 3, 4]\n",
            "[0, 1, 2, 3, 4]\n",
            "[0, 1, 2, 3, 4]\n"
          ],
          "name": "stdout"
        }
      ]
    },
    {
      "cell_type": "markdown",
      "metadata": {
        "id": "Zg0WIlH4_Tp2",
        "colab_type": "text"
      },
      "source": [
        "## Using conditionals in comprehensions"
      ]
    },
    {
      "cell_type": "code",
      "metadata": {
        "id": "u7jvwNXh_Ema",
        "colab_type": "code",
        "colab": {
          "base_uri": "https://localhost:8080/",
          "height": 34
        },
        "outputId": "1bcebcc5-a27a-41d5-8e7d-0dd77df05072"
      },
      "source": [
        "# Create a list of strings: fellowship\n",
        "fellowship = ['frodo', 'samwise', 'merry', 'aragorn', 'legolas', 'boromir', 'gimli']\n",
        "\n",
        "# Create list comprehension: new_fellowship\n",
        "new_fellowship = [member for member in fellowship if len(member) >= 7]\n",
        "\n",
        "# Print the new list\n",
        "print(new_fellowship)"
      ],
      "execution_count": 11,
      "outputs": [
        {
          "output_type": "stream",
          "text": [
            "['samwise', 'aragorn', 'legolas', 'boromir']\n"
          ],
          "name": "stdout"
        }
      ]
    },
    {
      "cell_type": "code",
      "metadata": {
        "id": "wWc_MEJU_Wf5",
        "colab_type": "code",
        "colab": {
          "base_uri": "https://localhost:8080/",
          "height": 34
        },
        "outputId": "21536411-9281-40ff-9c51-266097c19785"
      },
      "source": [
        "# Create a list of strings: fellowship\n",
        "fellowship = ['frodo', 'samwise', 'merry', 'aragorn', 'legolas', 'boromir', 'gimli']\n",
        "\n",
        "# Create list comprehension: new_fellowship\n",
        "new_fellowship = [member if len(member) >= 7 else '' for member in fellowship]\n",
        "\n",
        "# Print the new list\n",
        "print(new_fellowship)\n"
      ],
      "execution_count": 12,
      "outputs": [
        {
          "output_type": "stream",
          "text": [
            "['', 'samwise', '', 'aragorn', 'legolas', 'boromir', '']\n"
          ],
          "name": "stdout"
        }
      ]
    },
    {
      "cell_type": "markdown",
      "metadata": {
        "id": "CQwKcu5h_eyn",
        "colab_type": "text"
      },
      "source": [
        "## Dict comprehensions"
      ]
    },
    {
      "cell_type": "code",
      "metadata": {
        "id": "jobo_KNH_aiW",
        "colab_type": "code",
        "colab": {
          "base_uri": "https://localhost:8080/",
          "height": 34
        },
        "outputId": "2c43ca47-ec91-4f92-b392-6c9ca5704571"
      },
      "source": [
        "# Create a list of strings: fellowship\n",
        "fellowship = ['frodo', 'samwise', 'merry', 'aragorn', 'legolas', 'boromir', 'gimli']\n",
        "\n",
        "# Create dict comprehension: new_fellowship\n",
        "new_fellowship = { member:len(member) for member in fellowship }\n",
        "\n",
        "# Print the new dictionary\n",
        "print(new_fellowship)"
      ],
      "execution_count": 13,
      "outputs": [
        {
          "output_type": "stream",
          "text": [
            "{'frodo': 5, 'samwise': 7, 'merry': 5, 'aragorn': 7, 'legolas': 7, 'boromir': 7, 'gimli': 5}\n"
          ],
          "name": "stdout"
        }
      ]
    },
    {
      "cell_type": "markdown",
      "metadata": {
        "id": "2VwAEQx2FBkA",
        "colab_type": "text"
      },
      "source": [
        "## Generator vs list"
      ]
    },
    {
      "cell_type": "code",
      "metadata": {
        "id": "eR2Yigcs_hfF",
        "colab_type": "code",
        "colab": {
          "base_uri": "https://localhost:8080/",
          "height": 102
        },
        "outputId": "dc4eaa2e-4c0d-4dc6-a745-f894a95c8eb9"
      },
      "source": [
        "# Create a list of strings: lannister\n",
        "lannister = ['cersei', 'jaime', 'tywin', 'tyrion', 'joffrey']\n",
        "\n",
        "# Create a generator object: lengths\n",
        "lengths = (len(person) for person in lannister)\n",
        "\n",
        "# Iterate over and print the values in lengths\n",
        "for value in lengths:\n",
        "    print(value)"
      ],
      "execution_count": 14,
      "outputs": [
        {
          "output_type": "stream",
          "text": [
            "6\n",
            "5\n",
            "5\n",
            "6\n",
            "7\n"
          ],
          "name": "stdout"
        }
      ]
    },
    {
      "cell_type": "code",
      "metadata": {
        "id": "jtpdH0oQFFjO",
        "colab_type": "code",
        "colab": {}
      },
      "source": [
        ""
      ],
      "execution_count": 0,
      "outputs": []
    }
  ]
}